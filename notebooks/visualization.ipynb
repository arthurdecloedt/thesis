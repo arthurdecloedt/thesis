{
 "cells": [
  {
   "cell_type": "code",
   "execution_count": 1,
   "metadata": {
    "collapsed": true
   },
   "outputs": [
    {
     "ename": "ModuleNotFoundError",
     "evalue": "No module named 'utils'",
     "output_type": "error",
     "traceback": [
      "\u001B[0;31m---------------------------------------------------------------------------\u001B[0m",
      "\u001B[0;31mModuleNotFoundError\u001B[0m                       Traceback (most recent call last)",
      "\u001B[0;32m<ipython-input-1-c2b37d753f17>\u001B[0m in \u001B[0;36m<module>\u001B[0;34m\u001B[0m\n\u001B[0;32m----> 1\u001B[0;31m \u001B[0;32mfrom\u001B[0m \u001B[0mutils\u001B[0m\u001B[0;34m.\u001B[0m\u001B[0mSK_containers\u001B[0m \u001B[0;32mimport\u001B[0m \u001B[0;34m*\u001B[0m\u001B[0;34m\u001B[0m\u001B[0;34m\u001B[0m\u001B[0m\n\u001B[0m\u001B[1;32m      2\u001B[0m \u001B[0;34m\u001B[0m\u001B[0m\n\u001B[1;32m      3\u001B[0m \u001B[0;34m\u001B[0m\u001B[0m\n\u001B[1;32m      4\u001B[0m \u001B[0;34m\u001B[0m\u001B[0m\n\u001B[1;32m      5\u001B[0m \u001B[0;34m\u001B[0m\u001B[0m\n",
      "\u001B[0;31mModuleNotFoundError\u001B[0m: No module named 'utils'"
     ]
    }
   ],
   "source": [
    "from utils.SK_containers import *\n",
    "\n",
    "\n",
    "\n",
    "\n",
    "\n",
    "import logging as lg\n",
    "import sys\n",
    "import traceback\n",
    "import warnings\n",
    "# noinspection PyUnresolvedReferences\n",
    "import mpl_toolkits.mplot3d\n",
    "\n",
    "import sklearn.linear_model as skl\n",
    "import xgboost\n",
    "import yaml\n",
    "from matplotlib import pyplot as plt, cm\n",
    "from torch.utils.tensorboard import SummaryWriter\n",
    "\n",
    "from utils import multiset\n",
    "from utils.SK_containers import lr_Container, XG_Container\n",
    "\n",
    "\n",
    "trainset = multiset.ContigSet()\n",
    "xgb = xgboost.XGBRegressor()\n",
    "\n",
    "cont = XG_Container(trainset, lr, 0.8, True)\n",
    "writer = SummaryWriter()\n",
    "h_writer =  SummaryWriter(\"runs/hparam_xgb\")\n",
    "hyperparam_ranges = {'max_depth': (5, 12),\n",
    "                     'n_estimators': (50, 500)\n",
    "                     }\n",
    "\n",
    "cont.register_bo(hyperparam_ranges)\n",
    "cont.reload_progress()\n",
    "\n",
    "\n",
    "\n",
    "writer.close()\n",
    "# cont.train()\n",
    "# f1,f2 = cont.create_figures(hyperparam_ranges,cont.bo)\n",
    "# writer.add_figure(\"predicted_function_scatter\", f2, global_step=1)\n",
    "# writer.add_figure(\"predicted_function\", f1, global_step=1)\n",
    "# writer.flush()\n",
    "# cont.results_tb(writer)\n",
    "# cont.train()\n",
    "# cont.results_tb(writer)\n"
   ]
  },
  {
   "cell_type": "code",
   "execution_count": null,
   "outputs": [],
   "source": [
    "\n"
   ],
   "metadata": {
    "collapsed": false,
    "pycharm": {
     "name": "#%%\n"
    }
   }
  }
 ],
 "metadata": {
  "kernelspec": {
   "display_name": "Python 3",
   "language": "python",
   "name": "python3"
  },
  "language_info": {
   "codemirror_mode": {
    "name": "ipython",
    "version": 3
   },
   "file_extension": ".py",
   "mimetype": "text/x-python",
   "name": "python",
   "nbconvert_exporter": "python",
   "pygments_lexer": "ipython3",
   "version": "3.8.2"
  }
 },
 "nbformat": 4,
 "nbformat_minor": 1
}